{
 "cells": [
  {
   "cell_type": "markdown",
   "id": "df06ace6",
   "metadata": {},
   "source": [
    "# Exploring Dandiset 001359: Human Patch-seq Data from AIBS"
   ]
  },
  {
   "cell_type": "markdown",
   "id": "3cbbbcc1",
   "metadata": {},
   "source": [
    "**Important Note:** This notebook was AI-generated and has not been fully verified. Please be cautious when interpreting the code or results."
   ]
  },
  {
   "cell_type": "markdown",
   "id": "bd823e70",
   "metadata": {},
   "source": [
    "## Overview of the Dandiset\n",
    "\n",
    "This notebook explores Dandiset [001359](https://dandiarchive.org/dandiset/001359/0.250401.1603) version 0.250401.1603.\n",
    "\n",
    "**Dandiset Name:** 20250331_AIBS_Patchseq_human\n",
    "\n",
    "**Description:** HMBA Lein PatchSeq upload (human) (Q1 2025)\n",
    "\n",
    "This Dandiset contains Patch-seq data from human brain tissue, collected by the Allen Institute for Brain Science. Patch-seq is a multimodal technique that combines patch-clamp electrophysiology, morphological reconstruction, and single-cell transcriptomics from the same neuron."
   ]
  },
  {
   "cell_type": "markdown",
   "id": "f988bc06",
   "metadata": {},
   "source": [
    "## What this notebook covers\n",
    "\n",
    "This notebook will demonstrate how to:\n",
    "1.  Connect to the DANDI archive and access information about the Dandiset.\n",
    "2.  List assets (NWB files) within the Dandiset.\n",
    "3.  Load a specific NWB file from the Dandiset.\n",
    "4.  Explore the metadata and structure of the NWB file.\n",
    "5.  Load and visualize some electrophysiological data (CurrentClampSeries) from the NWB file.\n",
    "6.  Load and visualize spike times if available."
   ]
  },
  {
   "cell_type": "markdown",
   "id": "a0578027",
   "metadata": {},
   "source": [
    "## Required Packages\n",
    "\n",
    "To run this notebook, you will need the following Python packages. We assume these are already installed on your system.\n",
    "\n",
    "*   `dandi` (for interacting with the DANDI Archive)\n",
    "*   `pynwb` (for reading NWB files)\n",
    "*   `h5py` (dependency for pynwb for HDF5 file access)\n",
    "*   `remfile` (for efficiently reading remote HDF5 files)\n",
    "*   `numpy` (for numerical operations)\n",
    "*   `matplotlib` (for plotting)\n",
    "*   `seaborn` (for enhanced visualizations)\n",
    "\n",
    "No `pip install` commands are included in this notebook."
   ]
  },
  {
   "cell_type": "markdown",
   "id": "77b1f0cb",
   "metadata": {},
   "source": [
    "## Loading the Dandiset using the DANDI API"
   ]
  },
  {
   "cell_type": "code",
   "execution_count": 1,
   "id": "8928bd84",
   "metadata": {
    "execution": {
     "iopub.execute_input": "2025-05-09T16:48:12.502434Z",
     "iopub.status.busy": "2025-05-09T16:48:12.502146Z",
     "iopub.status.idle": "2025-05-09T16:48:13.675564Z",
     "shell.execute_reply": "2025-05-09T16:48:13.674730Z"
    }
   },
   "outputs": [],
   "source": [
    "# Import necessary libraries\n",
    "from itertools import islice\n",
    "from dandi.dandiapi import DandiAPIClient\n",
    "import numpy as np\n",
    "import matplotlib.pyplot as plt\n",
    "import seaborn as sns\n",
    "import pynwb\n",
    "import h5py\n",
    "import remfile\n",
    "\n",
    "# Set seaborn theme for plots (optional)\n",
    "sns.set_theme()"
   ]
  },
  {
   "cell_type": "code",
   "execution_count": 2,
   "id": "acca78ae",
   "metadata": {
    "execution": {
     "iopub.execute_input": "2025-05-09T16:48:13.677405Z",
     "iopub.status.busy": "2025-05-09T16:48:13.677187Z",
     "iopub.status.idle": "2025-05-09T16:48:14.019809Z",
     "shell.execute_reply": "2025-05-09T16:48:14.019338Z"
    }
   },
   "outputs": [
    {
     "name": "stdout",
     "output_type": "stream",
     "text": [
      "Dandiset name: 20250331_AIBS_Patchseq_human\n",
      "Dandiset URL: https://dandiarchive.org/dandiset/001359/0.250401.1603\n",
      "Dandiset (version specific) URL: https://dandiarchive.org/dandiset/001359/0.250401.1603\n",
      "Description: HMBA Lein PatchSeq upload (human) (Q1 2025)\n",
      "\n",
      "First 5 assets:\n"
     ]
    },
    {
     "ename": "AttributeError",
     "evalue": "'RemoteBlobAsset' object has no attribute 'asset_id'",
     "output_type": "error",
     "traceback": [
      "\u001b[0;31m---------------------------------------------------------------------------\u001b[0m",
      "\u001b[0;31mAttributeError\u001b[0m                            Traceback (most recent call last)",
      "Cell \u001b[0;32mIn[2], line 18\u001b[0m\n\u001b[1;32m     16\u001b[0m \u001b[38;5;28mprint\u001b[39m(\u001b[38;5;124m\"\u001b[39m\u001b[38;5;130;01m\\n\u001b[39;00m\u001b[38;5;124mFirst 5 assets:\u001b[39m\u001b[38;5;124m\"\u001b[39m)\n\u001b[1;32m     17\u001b[0m \u001b[38;5;28;01mfor\u001b[39;00m asset \u001b[38;5;129;01min\u001b[39;00m islice(assets, \u001b[38;5;241m5\u001b[39m):\n\u001b[0;32m---> 18\u001b[0m     \u001b[38;5;28mprint\u001b[39m(\u001b[38;5;124mf\u001b[39m\u001b[38;5;124m\"\u001b[39m\u001b[38;5;124m- \u001b[39m\u001b[38;5;132;01m{\u001b[39;00masset\u001b[38;5;241m.\u001b[39mpath\u001b[38;5;132;01m}\u001b[39;00m\u001b[38;5;124m (ID: \u001b[39m\u001b[38;5;132;01m{\u001b[39;00m\u001b[43masset\u001b[49m\u001b[38;5;241;43m.\u001b[39;49m\u001b[43masset_id\u001b[49m\u001b[38;5;132;01m}\u001b[39;00m\u001b[38;5;124m)\u001b[39m\u001b[38;5;124m\"\u001b[39m) \u001b[38;5;66;03m# Corrected from asset.identifier\u001b[39;00m\n",
      "File \u001b[0;32m~/miniconda3/envs/dev/lib/python3.12/site-packages/pydantic/main.py:891\u001b[0m, in \u001b[0;36mBaseModel.__getattr__\u001b[0;34m(self, item)\u001b[0m\n\u001b[1;32m    888\u001b[0m     \u001b[38;5;28;01mreturn\u001b[39;00m \u001b[38;5;28msuper\u001b[39m()\u001b[38;5;241m.\u001b[39m\u001b[38;5;21m__getattribute__\u001b[39m(item)  \u001b[38;5;66;03m# Raises AttributeError if appropriate\u001b[39;00m\n\u001b[1;32m    889\u001b[0m \u001b[38;5;28;01melse\u001b[39;00m:\n\u001b[1;32m    890\u001b[0m     \u001b[38;5;66;03m# this is the current error\u001b[39;00m\n\u001b[0;32m--> 891\u001b[0m     \u001b[38;5;28;01mraise\u001b[39;00m \u001b[38;5;167;01mAttributeError\u001b[39;00m(\u001b[38;5;124mf\u001b[39m\u001b[38;5;124m'\u001b[39m\u001b[38;5;132;01m{\u001b[39;00m\u001b[38;5;28mtype\u001b[39m(\u001b[38;5;28mself\u001b[39m)\u001b[38;5;241m.\u001b[39m\u001b[38;5;18m__name__\u001b[39m\u001b[38;5;132;01m!r}\u001b[39;00m\u001b[38;5;124m object has no attribute \u001b[39m\u001b[38;5;132;01m{\u001b[39;00mitem\u001b[38;5;132;01m!r}\u001b[39;00m\u001b[38;5;124m'\u001b[39m)\n",
      "\u001b[0;31mAttributeError\u001b[0m: 'RemoteBlobAsset' object has no attribute 'asset_id'"
     ]
    }
   ],
   "source": [
    "# Connect to DANDI archive\n",
    "client = DandiAPIClient()\n",
    "dandiset_id = \"001359\"\n",
    "dandiset_version = \"0.250401.1603\"\n",
    "dandiset = client.get_dandiset(dandiset_id, dandiset_version)\n",
    "\n",
    "# Print basic information about the Dandiset\n",
    "metadata = dandiset.get_raw_metadata()\n",
    "print(f\"Dandiset name: {metadata['name']}\")\n",
    "print(f\"Dandiset URL: {metadata['url']}\") # This URL is for the overall dandiset, not the specific version\n",
    "print(f\"Dandiset (version specific) URL: https://dandiarchive.org/dandiset/{dandiset_id}/{dandiset_version}\")\n",
    "print(f\"Description: {metadata.get('description', 'N/A')}\")\n",
    "\n",
    "# List some assets in the Dandiset\n",
    "assets = dandiset.get_assets()\n",
    "print(\"\\nFirst 5 assets:\")\n",
    "for asset in islice(assets, 5):\n",
    "    print(f\"- {asset.path} (ID: {asset.asset_id})\") # Corrected from asset.identifier"
   ]
  },
  {
   "cell_type": "markdown",
   "id": "be45f2e9",
   "metadata": {},
   "source": [
    "## Loading an NWB file from the Dandiset\n",
    "\n",
    "We will now load one of the NWB files from the Dandiset. We'll choose the first asset listed: `sub-1203384279/sub-1203384279_ses-1207262032_icephys.nwb`.\n",
    "\n",
    "The asset ID for this file is `c269347a-2d4b-4b6a-8b7c-2ef303ff503d`.\n",
    "The DANDI API URL to download this asset is `https://api.dandiarchive.org/api/assets/c269347a-2d4b-4b6a-8b7c-2ef303ff503d/download/`."
   ]
  },
  {
   "cell_type": "code",
   "execution_count": 3,
   "id": "c9c56da2",
   "metadata": {
    "execution": {
     "iopub.execute_input": "2025-05-09T16:48:14.021446Z",
     "iopub.status.busy": "2025-05-09T16:48:14.021360Z",
     "iopub.status.idle": "2025-05-09T16:48:30.034072Z",
     "shell.execute_reply": "2025-05-09T16:48:30.033586Z"
    }
   },
   "outputs": [
    {
     "name": "stdout",
     "output_type": "stream",
     "text": [
      "Loading NWB file from: https://api.dandiarchive.org/api/assets/c269347a-2d4b-4b6a-8b7c-2ef303ff503d/download/\n"
     ]
    },
    {
     "name": "stderr",
     "output_type": "stream",
     "text": [
      "/home/magland/miniconda3/envs/dev/lib/python3.12/site-packages/hdmf/spec/namespace.py:535: UserWarning: Ignoring cached namespace 'hdmf-common' version 1.1.3 because version 1.8.0 is already loaded.\n",
      "  warn(\"Ignoring cached namespace '%s' version %s because version %s is already loaded.\"\n",
      "/home/magland/miniconda3/envs/dev/lib/python3.12/site-packages/hdmf/spec/namespace.py:535: UserWarning: Ignoring cached namespace 'core' version 2.2.4 because version 2.7.0 is already loaded.\n",
      "  warn(\"Ignoring cached namespace '%s' version %s because version %s is already loaded.\"\n"
     ]
    },
    {
     "name": "stdout",
     "output_type": "stream",
     "text": [
      "\n",
      "NWB file loaded successfully.\n",
      "Identifier: 0b7926a648abdf35aa91c67131cbd47b1d9786dd72001bd7e2b454be71ac3a6c\n",
      "Session Description: PLACEHOLDER\n",
      "Session Start Time: 2022-09-06 17:44:39.146000+00:00\n",
      "Subject ID: 1203384279\n"
     ]
    }
   ],
   "source": [
    "# Define the URL for the specific NWB file\n",
    "# This URL was obtained from the `tools_cli.py nwb-file-info` command output\n",
    "nwb_file_url = \"https://api.dandiarchive.org/api/assets/c269347a-2d4b-4b6a-8b7c-2ef303ff503d/download/\"\n",
    "asset_id = \"c269347a-2d4b-4b6a-8b7c-2ef303ff503d\" # For Neurosift link\n",
    "\n",
    "print(f\"Loading NWB file from: {nwb_file_url}\")\n",
    "\n",
    "# Load the NWB file using remfile for remote access\n",
    "# This code snippet is based on the output of `tools_cli.py nwb-file-info`\n",
    "remote_file = remfile.File(nwb_file_url)\n",
    "h5_file = h5py.File(remote_file, mode='r') # Ensure read-only mode\n",
    "io = pynwb.NWBHDF5IO(file=h5_file, mode='r', load_namespaces=True) # Ensure read-only and load namespaces\n",
    "nwb = io.read()\n",
    "\n",
    "print(\"\\nNWB file loaded successfully.\")\n",
    "print(f\"Identifier: {nwb.identifier}\")\n",
    "print(f\"Session Description: {nwb.session_description}\")\n",
    "print(f\"Session Start Time: {nwb.session_start_time}\")\n",
    "print(f\"Subject ID: {nwb.subject.subject_id if nwb.subject else 'N/A'}\")"
   ]
  },
  {
   "cell_type": "markdown",
   "id": "43471aa9",
   "metadata": {},
   "source": [
    "### Neurosift Link for Interactive Exploration\n",
    "\n",
    "You can explore this NWB file interactively on Neurosift using the following link:\n",
    "[https://neurosift.app/nwb?url=https://api.dandiarchive.org/api/assets/c269347a-2d4b-4b6a-8b7c-2ef303ff503d/download/&dandisetId=001359&dandisetVersion=0.250401.1603](https://neurosift.app/nwb?url=https://api.dandiarchive.org/api/assets/c269347a-2d4b-4b6a-8b7c-2ef303ff503d/download/&dandisetId=001359&dandisetVersion=0.250401.1603)"
   ]
  },
  {
   "cell_type": "markdown",
   "id": "9d90c9b4",
   "metadata": {},
   "source": [
    "### Summarizing NWB File Contents\n",
    "\n",
    "Let's look at some of the metadata and data groups available in this NWB file.\n",
    "NWB files typically organize data into groups like `acquisition` (raw acquired data), `stimulus` (stimulus waveforms), and `processing` (processed data like spike times)."
   ]
  },
  {
   "cell_type": "markdown",
   "id": "a8efa37a",
   "metadata": {},
   "source": [
    "#### General Information:\n",
    "*   **Identifier:** `{{nwb.identifier}}` (This is a unique ID for the NWB file itself)\n",
    "*   **Session Description:** `{{nwb.session_description}}`\n",
    "*   **Session Start Time:** `{{nwb.session_start_time}}`\n",
    "*   **Subject ID:** `{{nwb.subject.subject_id if nwb.subject else 'N/A'}}`\n",
    "*   **Subject Species:** `{{nwb.subject.species if nwb.subject else 'N/A'}}`\n",
    "*   **Subject Sex:** `{{nwb.subject.sex if nwb.subject else 'N/A'}}`\n",
    "*   **Institution:** `{{nwb.institution}}`"
   ]
  },
  {
   "cell_type": "markdown",
   "id": "73b717c3",
   "metadata": {},
   "source": [
    "#### Acquisition Data:\n",
    "The `nwb.acquisition` group contains the raw data acquired during the experiment. These are typically `TimeSeries` objects.\n",
    "We can list the names of the time series available:"
   ]
  },
  {
   "cell_type": "code",
   "execution_count": 4,
   "id": "39bcee55",
   "metadata": {
    "execution": {
     "iopub.execute_input": "2025-05-09T16:48:30.035158Z",
     "iopub.status.busy": "2025-05-09T16:48:30.035055Z",
     "iopub.status.idle": "2025-05-09T16:48:30.037694Z",
     "shell.execute_reply": "2025-05-09T16:48:30.037290Z"
    }
   },
   "outputs": [
    {
     "name": "stdout",
     "output_type": "stream",
     "text": [
      "Available TimeSeries in nwb.acquisition:\n",
      "- data_00000_AD0 (type: VoltageClampSeries, unit: amperes)\n",
      "- data_00001_AD0 (type: VoltageClampSeries, unit: amperes)\n",
      "- data_00002_AD0 (type: VoltageClampSeries, unit: amperes)\n",
      "- data_00003_AD0 (type: VoltageClampSeries, unit: amperes)\n",
      "- data_00004_AD0 (type: CurrentClampSeries, unit: volts)\n",
      "- data_00005_AD0 (type: CurrentClampSeries, unit: volts)\n",
      "- data_00006_AD0 (type: CurrentClampSeries, unit: volts)\n",
      "- data_00007_AD0 (type: CurrentClampSeries, unit: volts)\n",
      "- data_00008_AD0 (type: CurrentClampSeries, unit: volts)\n",
      "- data_00009_AD0 (type: CurrentClampSeries, unit: volts)\n",
      "- data_00010_AD0 (type: CurrentClampSeries, unit: volts)\n",
      "- data_00011_AD0 (type: CurrentClampSeries, unit: volts)\n",
      "- data_00012_AD0 (type: CurrentClampSeries, unit: volts)\n",
      "- data_00013_AD0 (type: CurrentClampSeries, unit: volts)\n",
      "- data_00014_AD0 (type: CurrentClampSeries, unit: volts)\n",
      "- data_00015_AD0 (type: CurrentClampSeries, unit: volts)\n",
      "- data_00016_AD0 (type: CurrentClampSeries, unit: volts)\n",
      "- data_00017_AD0 (type: CurrentClampSeries, unit: volts)\n",
      "- data_00018_AD0 (type: CurrentClampSeries, unit: volts)\n",
      "- data_00019_AD0 (type: CurrentClampSeries, unit: volts)\n",
      "- data_00020_AD0 (type: CurrentClampSeries, unit: volts)\n",
      "- data_00021_AD0 (type: CurrentClampSeries, unit: volts)\n",
      "- data_00022_AD0 (type: CurrentClampSeries, unit: volts)\n",
      "- data_00023_AD0 (type: CurrentClampSeries, unit: volts)\n",
      "- data_00024_AD0 (type: CurrentClampSeries, unit: volts)\n",
      "- data_00025_AD0 (type: CurrentClampSeries, unit: volts)\n",
      "- data_00026_AD0 (type: CurrentClampSeries, unit: volts)\n",
      "- data_00027_AD0 (type: CurrentClampSeries, unit: volts)\n",
      "- data_00028_AD0 (type: CurrentClampSeries, unit: volts)\n",
      "- data_00029_AD0 (type: CurrentClampSeries, unit: volts)\n",
      "- data_00030_AD0 (type: CurrentClampSeries, unit: volts)\n",
      "- data_00031_AD0 (type: CurrentClampSeries, unit: volts)\n",
      "- data_00032_AD0 (type: CurrentClampSeries, unit: volts)\n",
      "- data_00033_AD0 (type: CurrentClampSeries, unit: volts)\n",
      "- data_00034_AD0 (type: CurrentClampSeries, unit: volts)\n",
      "- data_00035_AD0 (type: CurrentClampSeries, unit: volts)\n",
      "- data_00036_AD0 (type: CurrentClampSeries, unit: volts)\n",
      "- data_00037_AD0 (type: CurrentClampSeries, unit: volts)\n",
      "- data_00038_AD0 (type: CurrentClampSeries, unit: volts)\n",
      "- data_00039_AD0 (type: CurrentClampSeries, unit: volts)\n",
      "- data_00040_AD0 (type: CurrentClampSeries, unit: volts)\n",
      "- data_00041_AD0 (type: CurrentClampSeries, unit: volts)\n",
      "- data_00042_AD0 (type: CurrentClampSeries, unit: volts)\n",
      "- data_00043_AD0 (type: CurrentClampSeries, unit: volts)\n",
      "- data_00044_AD0 (type: CurrentClampSeries, unit: volts)\n",
      "- data_00045_AD0 (type: CurrentClampSeries, unit: volts)\n",
      "- data_00046_AD0 (type: CurrentClampSeries, unit: volts)\n",
      "- data_00047_AD0 (type: CurrentClampSeries, unit: volts)\n",
      "- data_00048_AD0 (type: CurrentClampSeries, unit: volts)\n",
      "- data_00049_AD0 (type: CurrentClampSeries, unit: volts)\n",
      "- data_00050_AD0 (type: CurrentClampSeries, unit: volts)\n",
      "- data_00051_AD0 (type: CurrentClampSeries, unit: volts)\n",
      "- data_00052_AD0 (type: CurrentClampSeries, unit: volts)\n",
      "- data_00053_AD0 (type: CurrentClampSeries, unit: volts)\n",
      "- data_00054_AD0 (type: CurrentClampSeries, unit: volts)\n",
      "- data_00055_AD0 (type: CurrentClampSeries, unit: volts)\n",
      "- data_00056_AD0 (type: CurrentClampSeries, unit: volts)\n",
      "- data_00057_AD0 (type: CurrentClampSeries, unit: volts)\n",
      "- data_00058_AD0 (type: CurrentClampSeries, unit: volts)\n",
      "- data_00059_AD0 (type: CurrentClampSeries, unit: volts)\n",
      "- data_00060_AD0 (type: CurrentClampSeries, unit: volts)\n",
      "- data_00061_AD0 (type: CurrentClampSeries, unit: volts)\n",
      "- data_00062_AD0 (type: CurrentClampSeries, unit: volts)\n",
      "- data_00063_AD0 (type: CurrentClampSeries, unit: volts)\n",
      "- data_00064_AD0 (type: CurrentClampSeries, unit: volts)\n",
      "- data_00065_AD0 (type: CurrentClampSeries, unit: volts)\n",
      "- data_00066_AD0 (type: CurrentClampSeries, unit: volts)\n",
      "- data_00067_AD0 (type: CurrentClampSeries, unit: volts)\n",
      "- data_00068_AD0 (type: VoltageClampSeries, unit: amperes)\n",
      "- data_00069_AD0 (type: VoltageClampSeries, unit: amperes)\n"
     ]
    }
   ],
   "source": [
    "print(\"Available TimeSeries in nwb.acquisition:\")\n",
    "for series_name, series_obj in nwb.acquisition.items():\n",
    "    print(f\"- {series_name} (type: {type(series_obj).__name__}, unit: {series_obj.unit if hasattr(series_obj, 'unit') else 'N/A'})\")"
   ]
  },
  {
   "cell_type": "markdown",
   "id": "486626d7",
   "metadata": {},
   "source": [
    "#### Stimulus Data:\n",
    "The `nwb.stimulus` group contains the stimulus waveforms applied during the experiment."
   ]
  },
  {
   "cell_type": "code",
   "execution_count": 5,
   "id": "5bfc039e",
   "metadata": {
    "execution": {
     "iopub.execute_input": "2025-05-09T16:48:30.038811Z",
     "iopub.status.busy": "2025-05-09T16:48:30.038730Z",
     "iopub.status.idle": "2025-05-09T16:48:30.041226Z",
     "shell.execute_reply": "2025-05-09T16:48:30.040934Z"
    }
   },
   "outputs": [
    {
     "name": "stdout",
     "output_type": "stream",
     "text": [
      "\n",
      "Available TimeSeries in nwb.stimulus:\n",
      "- data_00000_DA0 (type: VoltageClampStimulusSeries, unit: volts)\n",
      "- data_00001_DA0 (type: VoltageClampStimulusSeries, unit: volts)\n",
      "- data_00002_DA0 (type: VoltageClampStimulusSeries, unit: volts)\n",
      "- data_00003_DA0 (type: VoltageClampStimulusSeries, unit: volts)\n",
      "- data_00004_DA0 (type: CurrentClampStimulusSeries, unit: amperes)\n",
      "- data_00005_DA0 (type: CurrentClampStimulusSeries, unit: amperes)\n",
      "- data_00006_DA0 (type: CurrentClampStimulusSeries, unit: amperes)\n",
      "- data_00007_DA0 (type: CurrentClampStimulusSeries, unit: amperes)\n",
      "- data_00008_DA0 (type: CurrentClampStimulusSeries, unit: amperes)\n",
      "- data_00009_DA0 (type: CurrentClampStimulusSeries, unit: amperes)\n",
      "- data_00010_DA0 (type: CurrentClampStimulusSeries, unit: amperes)\n",
      "- data_00011_DA0 (type: CurrentClampStimulusSeries, unit: amperes)\n",
      "- data_00012_DA0 (type: CurrentClampStimulusSeries, unit: amperes)\n",
      "- data_00013_DA0 (type: CurrentClampStimulusSeries, unit: amperes)\n",
      "- data_00014_DA0 (type: CurrentClampStimulusSeries, unit: amperes)\n",
      "- data_00015_DA0 (type: CurrentClampStimulusSeries, unit: amperes)\n",
      "- data_00016_DA0 (type: CurrentClampStimulusSeries, unit: amperes)\n",
      "- data_00017_DA0 (type: CurrentClampStimulusSeries, unit: amperes)\n",
      "- data_00018_DA0 (type: CurrentClampStimulusSeries, unit: amperes)\n",
      "- data_00019_DA0 (type: CurrentClampStimulusSeries, unit: amperes)\n",
      "- data_00020_DA0 (type: CurrentClampStimulusSeries, unit: amperes)\n",
      "- data_00021_DA0 (type: CurrentClampStimulusSeries, unit: amperes)\n",
      "- data_00022_DA0 (type: CurrentClampStimulusSeries, unit: amperes)\n",
      "- data_00023_DA0 (type: CurrentClampStimulusSeries, unit: amperes)\n",
      "- data_00024_DA0 (type: CurrentClampStimulusSeries, unit: amperes)\n",
      "- data_00025_DA0 (type: CurrentClampStimulusSeries, unit: amperes)\n",
      "- data_00026_DA0 (type: CurrentClampStimulusSeries, unit: amperes)\n",
      "- data_00027_DA0 (type: CurrentClampStimulusSeries, unit: amperes)\n",
      "- data_00028_DA0 (type: CurrentClampStimulusSeries, unit: amperes)\n",
      "- data_00029_DA0 (type: CurrentClampStimulusSeries, unit: amperes)\n",
      "- data_00030_DA0 (type: CurrentClampStimulusSeries, unit: amperes)\n",
      "- data_00031_DA0 (type: CurrentClampStimulusSeries, unit: amperes)\n",
      "- data_00032_DA0 (type: CurrentClampStimulusSeries, unit: amperes)\n",
      "- data_00033_DA0 (type: CurrentClampStimulusSeries, unit: amperes)\n",
      "- data_00034_DA0 (type: CurrentClampStimulusSeries, unit: amperes)\n",
      "- data_00035_DA0 (type: CurrentClampStimulusSeries, unit: amperes)\n",
      "- data_00036_DA0 (type: CurrentClampStimulusSeries, unit: amperes)\n",
      "- data_00037_DA0 (type: CurrentClampStimulusSeries, unit: amperes)\n",
      "- data_00038_DA0 (type: CurrentClampStimulusSeries, unit: amperes)\n",
      "- data_00039_DA0 (type: CurrentClampStimulusSeries, unit: amperes)\n",
      "- data_00040_DA0 (type: CurrentClampStimulusSeries, unit: amperes)\n",
      "- data_00041_DA0 (type: CurrentClampStimulusSeries, unit: amperes)\n",
      "- data_00042_DA0 (type: CurrentClampStimulusSeries, unit: amperes)\n",
      "- data_00043_DA0 (type: CurrentClampStimulusSeries, unit: amperes)\n",
      "- data_00044_DA0 (type: CurrentClampStimulusSeries, unit: amperes)\n",
      "- data_00045_DA0 (type: CurrentClampStimulusSeries, unit: amperes)\n",
      "- data_00046_DA0 (type: CurrentClampStimulusSeries, unit: amperes)\n",
      "- data_00047_DA0 (type: CurrentClampStimulusSeries, unit: amperes)\n",
      "- data_00048_DA0 (type: CurrentClampStimulusSeries, unit: amperes)\n",
      "- data_00049_DA0 (type: CurrentClampStimulusSeries, unit: amperes)\n",
      "- data_00050_DA0 (type: CurrentClampStimulusSeries, unit: amperes)\n",
      "- data_00051_DA0 (type: CurrentClampStimulusSeries, unit: amperes)\n",
      "- data_00052_DA0 (type: CurrentClampStimulusSeries, unit: amperes)\n",
      "- data_00053_DA0 (type: CurrentClampStimulusSeries, unit: amperes)\n",
      "- data_00054_DA0 (type: CurrentClampStimulusSeries, unit: amperes)\n",
      "- data_00055_DA0 (type: CurrentClampStimulusSeries, unit: amperes)\n",
      "- data_00056_DA0 (type: CurrentClampStimulusSeries, unit: amperes)\n",
      "- data_00057_DA0 (type: CurrentClampStimulusSeries, unit: amperes)\n",
      "- data_00058_DA0 (type: CurrentClampStimulusSeries, unit: amperes)\n",
      "- data_00059_DA0 (type: CurrentClampStimulusSeries, unit: amperes)\n",
      "- data_00060_DA0 (type: CurrentClampStimulusSeries, unit: amperes)\n",
      "- data_00061_DA0 (type: CurrentClampStimulusSeries, unit: amperes)\n",
      "- data_00062_DA0 (type: CurrentClampStimulusSeries, unit: amperes)\n",
      "- data_00063_DA0 (type: CurrentClampStimulusSeries, unit: amperes)\n",
      "- data_00064_DA0 (type: CurrentClampStimulusSeries, unit: amperes)\n",
      "- data_00065_DA0 (type: CurrentClampStimulusSeries, unit: amperes)\n",
      "- data_00066_DA0 (type: CurrentClampStimulusSeries, unit: amperes)\n",
      "- data_00067_DA0 (type: CurrentClampStimulusSeries, unit: amperes)\n",
      "- data_00068_DA0 (type: VoltageClampStimulusSeries, unit: volts)\n",
      "- data_00069_DA0 (type: VoltageClampStimulusSeries, unit: volts)\n"
     ]
    }
   ],
   "source": [
    "print(\"\\nAvailable TimeSeries in nwb.stimulus:\")\n",
    "if nwb.stimulus:\n",
    "    for series_name, series_obj in nwb.stimulus.items():\n",
    "        print(f\"- {series_name} (type: {type(series_obj).__name__}, unit: {series_obj.unit if hasattr(series_obj, 'unit') else 'N/A'})\")\n",
    "else:\n",
    "    print(\"No stimulus data found.\")"
   ]
  },
  {
   "cell_type": "markdown",
   "id": "e3d07c09",
   "metadata": {},
   "source": [
    "#### Processing Modules:\n",
    "The `nwb.processing` group contains data resulting from pre-processing steps. For example, it might contain a `spikes` module with detected spike times."
   ]
  },
  {
   "cell_type": "code",
   "execution_count": 6,
   "id": "e5a4f02a",
   "metadata": {
    "execution": {
     "iopub.execute_input": "2025-05-09T16:48:30.042351Z",
     "iopub.status.busy": "2025-05-09T16:48:30.042272Z",
     "iopub.status.idle": "2025-05-09T16:48:30.044422Z",
     "shell.execute_reply": "2025-05-09T16:48:30.044184Z"
    }
   },
   "outputs": [
    {
     "name": "stdout",
     "output_type": "stream",
     "text": [
      "\n",
      "Available Processing Modules in nwb.processing:\n",
      "Processing Module: spikes\n",
      "  - Sweep_10 (type: TimeSeries)\n",
      "  - Sweep_12 (type: TimeSeries)\n",
      "  - Sweep_14 (type: TimeSeries)\n",
      "  - Sweep_15 (type: TimeSeries)\n",
      "  - Sweep_17 (type: TimeSeries)\n",
      "  - Sweep_18 (type: TimeSeries)\n",
      "  - Sweep_20 (type: TimeSeries)\n",
      "  - Sweep_21 (type: TimeSeries)\n",
      "  - Sweep_23 (type: TimeSeries)\n",
      "  - Sweep_26 (type: TimeSeries)\n",
      "  - Sweep_33 (type: TimeSeries)\n",
      "  - Sweep_34 (type: TimeSeries)\n",
      "  - Sweep_36 (type: TimeSeries)\n",
      "  - Sweep_37 (type: TimeSeries)\n",
      "  - Sweep_38 (type: TimeSeries)\n",
      "  - Sweep_39 (type: TimeSeries)\n",
      "  - Sweep_41 (type: TimeSeries)\n",
      "  - Sweep_42 (type: TimeSeries)\n",
      "  - Sweep_5 (type: TimeSeries)\n",
      "  - Sweep_62 (type: TimeSeries)\n",
      "  - Sweep_63 (type: TimeSeries)\n",
      "  - Sweep_64 (type: TimeSeries)\n",
      "  - Sweep_65 (type: TimeSeries)\n",
      "  - Sweep_67 (type: TimeSeries)\n",
      "  - Sweep_7 (type: TimeSeries)\n",
      "  - Sweep_9 (type: TimeSeries)\n"
     ]
    }
   ],
   "source": [
    "print(\"\\nAvailable Processing Modules in nwb.processing:\")\n",
    "if nwb.processing:\n",
    "    for module_name, module_obj in nwb.processing.items():\n",
    "        print(f\"Processing Module: {module_name}\")\n",
    "        for data_interface_name, data_interface_obj in module_obj.data_interfaces.items():\n",
    "            print(f\"  - {data_interface_name} (type: {type(data_interface_obj).__name__})\")\n",
    "else:\n",
    "    print(\"No processing modules found.\")"
   ]
  },
  {
   "cell_type": "markdown",
   "id": "9280c064",
   "metadata": {},
   "source": [
    "## Visualizing Data from the NWB File\n",
    "\n",
    "Let's load and visualize some data. We'll look at a `CurrentClampSeries` from the `acquisition` group.\n",
    "Based on the `nwb-file-info` output, `data_00004_AD0` is a `CurrentClampSeries`."
   ]
  },
  {
   "cell_type": "code",
   "execution_count": 7,
   "id": "c837a770",
   "metadata": {
    "execution": {
     "iopub.execute_input": "2025-05-09T16:48:30.045412Z",
     "iopub.status.busy": "2025-05-09T16:48:30.045339Z",
     "iopub.status.idle": "2025-05-09T16:48:30.124989Z",
     "shell.execute_reply": "2025-05-09T16:48:30.124519Z"
    }
   },
   "outputs": [
    {
     "name": "stdout",
     "output_type": "stream",
     "text": [
      "Selected CurrentClampSeries: data_00004_AD0\n",
      "Description: PLACEHOLDER\n",
      "Unit: volts\n",
      "Rate: 50000.0 Hz\n",
      "Data shape: (307375,)\n"
     ]
    },
    {
     "data": {
      "image/png": "[encoded data removed]",
      "text/plain": [
       "<Figure size 1200x600 with 1 Axes>"
      ]
     },
     "metadata": {},
     "output_type": "display_data"
    }
   ],
   "source": [
    "# Select a CurrentClampSeries - e.g., 'data_00004_AD0'\n",
    "ccs_name = 'data_00004_AD0'\n",
    "if ccs_name in nwb.acquisition:\n",
    "    current_clamp_series = nwb.acquisition[ccs_name]\n",
    "    print(f\"Selected CurrentClampSeries: {ccs_name}\")\n",
    "    print(f\"Description: {current_clamp_series.description}\")\n",
    "    print(f\"Unit: {current_clamp_series.unit}\")\n",
    "    print(f\"Rate: {current_clamp_series.rate} Hz\")\n",
    "    print(f\"Data shape: {current_clamp_series.data.shape}\")\n",
    "\n",
    "    # Load a subset of the data to avoid loading too much into memory\n",
    "    # Let's load the first 5000 data points (or fewer if the series is shorter)\n",
    "    num_points_to_load = min(5000, current_clamp_series.data.shape[0])\n",
    "    data_subset = current_clamp_series.data[:num_points_to_load]\n",
    "\n",
    "    # Create a time vector for the subset\n",
    "    # Timestamps can be calculated from starting_time and rate\n",
    "    time_subset = current_clamp_series.starting_time + np.arange(num_points_to_load) / current_clamp_series.rate\n",
    "\n",
    "    # Plot the data subset\n",
    "    plt.figure(figsize=(12, 6))\n",
    "    # No seaborn style for image like data, but fine for line plots\n",
    "    sns.set_theme() # Apply seaborn theme\n",
    "    plt.plot(time_subset, data_subset)\n",
    "    plt.title(f\"Subset of {ccs_name} (First {num_points_to_load} points)\")\n",
    "    plt.xlabel(f\"Time ({current_clamp_series.starting_time_unit})\")\n",
    "    plt.ylabel(f\"Voltage ({current_clamp_series.unit})\")\n",
    "    plt.grid(True)\n",
    "    plt.show()\n",
    "else:\n",
    "    print(f\"CurrentClampSeries '{ccs_name}' not found in nwb.acquisition.\")"
   ]
  },
  {
   "cell_type": "markdown",
   "id": "2108b379",
   "metadata": {},
   "source": [
    "The plot above shows a short segment of a current clamp recording. This type of data typically represents the membrane voltage of a neuron over time in response to an injected current."
   ]
  },
  {
   "cell_type": "markdown",
   "id": "c742aaf0",
   "metadata": {},
   "source": [
    "### Visualizing Stimulus Data (Example)\n",
    "\n",
    "Let's try to plot the corresponding stimulus for `data_00004_AD0` if it exists. The stimulus series usually has a similar name, like `data_00004_DA0`."
   ]
  },
  {
   "cell_type": "code",
   "execution_count": 8,
   "id": "da6d87a6",
   "metadata": {
    "execution": {
     "iopub.execute_input": "2025-05-09T16:48:30.126277Z",
     "iopub.status.busy": "2025-05-09T16:48:30.126157Z",
     "iopub.status.idle": "2025-05-09T16:48:30.195906Z",
     "shell.execute_reply": "2025-05-09T16:48:30.195419Z"
    },
    "lines_to_next_cell": 2
   },
   "outputs": [
    {
     "name": "stdout",
     "output_type": "stream",
     "text": [
      "Selected StimulusSeries: data_00004_DA0\n",
      "Description: PLACEHOLDER\n",
      "Unit: amperes\n",
      "Rate: 50000.0 Hz\n",
      "Data shape: (307375,)\n"
     ]
    },
    {
     "data": {
      "image/png": "[encoded data removed]",
      "text/plain": [
       "<Figure size 1200x600 with 1 Axes>"
      ]
     },
     "metadata": {},
     "output_type": "display_data"
    }
   ],
   "source": [
    "stim_name = 'data_00004_DA0' # Corresponds to data_00004_AD0 acquisition\n",
    "if nwb.stimulus and stim_name in nwb.stimulus:\n",
    "    stimulus_series = nwb.stimulus[stim_name]\n",
    "    print(f\"Selected StimulusSeries: {stim_name}\")\n",
    "    print(f\"Description: {stimulus_series.description}\")\n",
    "    print(f\"Unit: {stimulus_series.unit}\")\n",
    "    print(f\"Rate: {stimulus_series.rate} Hz\")\n",
    "    print(f\"Data shape: {stimulus_series.data.shape}\")\n",
    "\n",
    "    # Load a subset of the stimulus data, corresponding to the acquisition data plotted\n",
    "    # Ensure the number of points matches the duration needed\n",
    "    # Note: stimulus and acquisition might have different total lengths but should have same rate for direct comparison\n",
    "    stim_data_subset = stimulus_series.data[:num_points_to_load] # Assuming same rate and starting time for simplicity\n",
    "\n",
    "    # Time vector should be the same as for current_clamp_series if rates and start times match\n",
    "    # Or, calculate independently:\n",
    "    # stim_time_subset = stimulus_series.starting_time + np.arange(num_points_to_load) / stimulus_series.rate\n",
    "\n",
    "\n",
    "    plt.figure(figsize=(12, 6))\n",
    "    sns.set_theme() # Apply seaborn theme\n",
    "    plt.plot(time_subset, stim_data_subset) # using time_subset from previous cell\n",
    "    plt.title(f\"Subset of Stimulus {stim_name} (First {num_points_to_load} points)\")\n",
    "    plt.xlabel(f\"Time ({stimulus_series.starting_time_unit})\")\n",
    "    plt.ylabel(f\"Stimulus ({stimulus_series.unit})\")\n",
    "    plt.grid(True)\n",
    "    plt.show()\n",
    "\n",
    "else:\n",
    "    print(f\"StimulusSeries '{stim_name}' not found in nwb.stimulus or nwb.stimulus is empty.\")"
   ]
  },
  {
   "cell_type": "markdown",
   "id": "5a4107d9",
   "metadata": {},
   "source": [
    "### Exploring Processed Spike Data\n",
    "\n",
    "The `nwb.processing` module might contain detected spike times. From the `nwb-file-info` output, we saw a `spikes` module with entries like `Sweep_33`. These are `TimeSeries` objects where the `data` or `timestamps` attribute holds spike times."
   ]
  },
  {
   "cell_type": "code",
   "execution_count": 9,
   "id": "0421356f",
   "metadata": {
    "execution": {
     "iopub.execute_input": "2025-05-09T16:48:30.197149Z",
     "iopub.status.busy": "2025-05-09T16:48:30.197048Z",
     "iopub.status.idle": "2025-05-09T16:48:30.235145Z",
     "shell.execute_reply": "2025-05-09T16:48:30.234841Z"
    }
   },
   "outputs": [
    {
     "name": "stdout",
     "output_type": "stream",
     "text": [
      "Spike data found in nwb.processing['spikes']:\n",
      "\n",
      "Spike times from Sweep_33 (using .timestamps):\n",
      "[0.5954]\n"
     ]
    },
    {
     "data": {
      "image/png": "[encoded data removed]",
      "text/plain": [
       "<Figure size 1000x200 with 1 Axes>"
      ]
     },
     "metadata": {},
     "output_type": "display_data"
    },
    {
     "name": "stdout",
     "output_type": "stream",
     "text": [
      "\n",
      "Summary of spike events per sweep in 'spikes' module:\n",
      "- Sweep_10: 0 spikes/events\n",
      "- Sweep_12: 0 spikes/events\n"
     ]
    },
    {
     "name": "stdout",
     "output_type": "stream",
     "text": [
      "- Sweep_14: 0 spikes/events\n",
      "- Sweep_15: 0 spikes/events\n",
      "- Sweep_17: 0 spikes/events\n",
      "- Sweep_18: 0 spikes/events\n",
      "- Sweep_20: 0 spikes/events\n",
      "- Sweep_21: 0 spikes/events\n",
      "- Sweep_23: 0 spikes/events\n",
      "- Sweep_26: 0 spikes/events\n",
      "- Sweep_33: 1 spikes/events\n",
      "- Sweep_34: 1 spikes/events\n",
      "- Sweep_36: 1 spikes/events\n",
      "- Sweep_37: 1 spikes/events\n",
      "- Sweep_38: 2 spikes/events\n",
      "- Sweep_39: 7 spikes/events\n",
      "- Sweep_41: 7 spikes/events\n",
      "- Sweep_42: 9 spikes/events\n",
      "- Sweep_5: 0 spikes/events\n",
      "- Sweep_62: 1 spikes/events\n",
      "- Sweep_63: 1 spikes/events\n",
      "- Sweep_64: 1 spikes/events\n",
      "- Sweep_65: 6 spikes/events\n",
      "- Sweep_67: 2 spikes/events\n",
      "- Sweep_7: 0 spikes/events\n",
      "- Sweep_9: 0 spikes/events\n"
     ]
    }
   ],
   "source": [
    "if nwb.processing and \"spikes\" in nwb.processing:\n",
    "    spikes_module = nwb.processing[\"spikes\"]\n",
    "    print(\"Spike data found in nwb.processing['spikes']:\")\n",
    "\n",
    "    # Let's try to access and plot spike times from 'Sweep_33' as an example\n",
    "    sweep_with_spikes_name = \"Sweep_33\" # Example from nwb-file-info\n",
    "    if sweep_with_spikes_name in spikes_module.data_interfaces:\n",
    "        spike_times_series = spikes_module.data_interfaces[sweep_with_spikes_name]\n",
    "        \n",
    "        # Spike times are often stored in the 'timestamps' attribute for TimeSeries\n",
    "        # or 'data' if it's just a list of times. Let's check timestamps first.\n",
    "        if hasattr(spike_times_series, 'timestamps') and spike_times_series.timestamps is not None and len(spike_times_series.timestamps) > 0:\n",
    "            spike_times = spike_times_series.timestamps[:] # Load all spike times for this sweep\n",
    "            print(f\"\\nSpike times from {sweep_with_spikes_name} (using .timestamps):\")\n",
    "            print(spike_times)\n",
    "\n",
    "            if len(spike_times) > 0:\n",
    "                plt.figure(figsize=(10, 2))\n",
    "                sns.set_theme() # Apply seaborn theme\n",
    "                plt.eventplot(spike_times, colors='black', lineoffsets=0, linelengths=0.5)\n",
    "                plt.title(f\"Spike raster for {sweep_with_spikes_name}\")\n",
    "                plt.xlabel(f\"Time ({spike_times_series.timestamps_unit})\")\n",
    "                plt.yticks([])\n",
    "                plt.show()\n",
    "            else:\n",
    "                print(f\"No spikes found in {sweep_with_spikes_name} (timestamps empty).\")\n",
    "\n",
    "        elif hasattr(spike_times_series, 'data') and spike_times_series.data is not None and len(spike_times_series.data) > 0:\n",
    "            # This case might be less common for spike times but check anyway\n",
    "            spike_data = spike_times_series.data[:]\n",
    "            print(f\"\\nData from {sweep_with_spikes_name} (using .data):\")\n",
    "            print(spike_data)\n",
    "            # Interpretation of .data depends on how spikes are stored. If these are times:\n",
    "            if len(spike_data) > 0:\n",
    "                plt.figure(figsize=(10, 2))\n",
    "                sns.set_theme() # Apply seaborn theme\n",
    "                plt.eventplot(spike_data, colors='blue', lineoffsets=0, linelengths=0.5)\n",
    "                plt.title(f\"Event plot for {sweep_with_spikes_name} (from .data)\")\n",
    "                plt.xlabel(f\"Time ({spike_times_series.unit})\") # Assuming unit refers to time here\n",
    "                plt.yticks([])\n",
    "                plt.show()\n",
    "            else:\n",
    "                 print(f\"No spike events found in {sweep_with_spikes_name} (data empty).\")\n",
    "        else:\n",
    "            print(f\"No spike timestamps or data found in {sweep_with_spikes_name} or it's empty.\")\n",
    "            # The nwb-file-info indicated Sweep_33.data has shape (1,) and Sweep_33.timestamps has shape (1,)\n",
    "            # So one of the above conditions should be met if the data is present.\n",
    "\n",
    "    else:\n",
    "        print(f\"TimeSeries '{sweep_with_spikes_name}' not found in spikes module.\")\n",
    "    \n",
    "    # Example of listing all spike event series and their number of spikes\n",
    "    print(\"\\nSummary of spike events per sweep in 'spikes' module:\")\n",
    "    for name, series in spikes_module.data_interfaces.items():\n",
    "        count = 0\n",
    "        if hasattr(series, 'timestamps') and series.timestamps is not None:\n",
    "            count = len(series.timestamps[:])\n",
    "        elif hasattr(series, 'data') and series.data is not None: # Fallback\n",
    "            count = len(series.data[:])\n",
    "        print(f\"- {name}: {count} spikes/events\")\n",
    "\n",
    "else:\n",
    "    print(\"No 'spikes' processing module found or nwb.processing is empty.\")"
   ]
  },
  {
   "cell_type": "markdown",
   "id": "354d989f",
   "metadata": {},
   "source": [
    "## Summary and Future Directions\n",
    "\n",
    "This notebook demonstrated the initial steps for exploring Dandiset 001359. We covered:\n",
    "*   Connecting to the DANDI archive and retrieving Dandiset metadata.\n",
    "*   Listing assets within the Dandiset.\n",
    "*   Loading a specific NWB file using its DANDI API URL and the `remfile`, `h5py`, and `pynwb` libraries.\n",
    "*   Inspecting basic metadata and the structure of the NWB file, including `acquisition`, `stimulus`, and `processing` groups.\n",
    "*   Visualizing a subset of a `CurrentClampSeries` (electrophysiological recording) and its corresponding stimulus.\n",
    "*   Attempting to visualize spike times from a `TimeSeries` object within a `spikes` processing module.\n",
    "\n",
    "### Possible Future Directions:\n",
    "1.  **Detailed Sweep Analysis:** Iterate through all sweeps (`PatchClampSeries`) in an NWB file, plot various stimulus-response pairs, and extract features (e.g., firing rate, spike adaptation, input resistance).\n",
    "2.  **Cross-File Analysis:** Extend the analysis to multiple NWB files in the Dandiset to compare electrophysiological properties across different cells or experimental conditions.\n",
    "3.  **Correlation with other Modalities:** Since this is Patch-seq data, a key future step would be to link the electrophysiological data with morphological and/or transcriptomic data for the same cells, if available within the Dandiset or related resources.\n",
    "4.  **Advanced Visualization:** Create more sophisticated visualizations, such as plotting multiple sweeps overlaid, F-I curves (firing rate vs. injected current), or phase-plane plots.\n",
    "5.  **Epoch-based Analysis:** Use the `nwb.epochs` table to analyze data related to specific experimental epochs or conditions.\n",
    "\n",
    "This notebook provides a starting point. The richness of NWB files and the DANDI archive allows for in-depth exploration tailored to specific research questions."
   ]
  },
  {
   "cell_type": "markdown",
   "id": "e0d629d8",
   "metadata": {},
   "source": [
    "Remember to consult the NWB format documentation and PyNWB tutorials for more advanced usage and details on accessing different data types.\n",
    "\n",
    "---\n",
    "End of AI-Generated Notebook."
   ]
  }
 ],
 "metadata": {
  "jupytext": {
   "cell_metadata_filter": "-all",
   "main_language": "python",
   "notebook_metadata_filter": "-all"
  },
  "language_info": {
   "codemirror_mode": {
    "name": "ipython",
    "version": 3
   },
   "file_extension": ".py",
   "mimetype": "text/x-python",
   "name": "python",
   "nbconvert_exporter": "python",
   "pygments_lexer": "ipython3",
   "version": "3.12.2"
  }
 },
 "nbformat": 4,
 "nbformat_minor": 5
}
